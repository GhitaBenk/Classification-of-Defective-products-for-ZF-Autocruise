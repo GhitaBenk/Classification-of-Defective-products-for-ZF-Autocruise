{
 "cells": [
  {
   "cell_type": "markdown",
   "metadata": {},
   "source": [
    "# Nettoyage du data "
   ]
  },
  {
   "cell_type": "code",
   "execution_count": 1,
   "metadata": {},
   "outputs": [],
   "source": [
    "import pickle\n",
    "import pandas as pd\n",
    "import numpy as np\n",
    "import copy\n",
    "import string\n",
    "import sys \n",
    "from sklearn.model_selection import  train_test_split\n",
    "\n",
    "np.set_printoptions(threshold=sys.maxsize)\n",
    "\n",
    "def to_str(var):\n",
    "    return str(list(np.reshape(np.asarray(var), (1, np.size(var)))[0]))[1:-1]\n",
    "\n",
    "#on importe la data\n",
    "with open('Data.pkl', 'rb') as f:\n",
    "    data = pickle.load(f)\n",
    "data_total = np.array(copy.deepcopy(data))\n",
    "defaut_row = pd.read_excel('example_data.xlsx')\n",
    "defaut = np.array(defaut_row)\n",
    "defaut = defaut[48:95,5:]\n",
    "data_total = data_total[:,5:52]\n",
    "alphabet = string.ascii_lowercase+string.ascii_uppercase    \n",
    "numbers = np.array(['0','1','2','3','4','5','6','7','8','9','-','.']) \n",
    "data_total_float = np.zeros(shape=(6001,47))\n",
    "\n",
    "#on remplace les valeurs vides avec les valeurs par défaut \n",
    "for i in range(6001):\n",
    "    for j in range(47):\n",
    "        if data_total[i][j] == '':\n",
    "            data_total[i][j] = to_str(defaut[j][0])\n",
    "        for k in data_total[i][j]:\n",
    "            if k in alphabet:\n",
    "                data_total[i][j] = data_total[i][j].replace(k,'')\n",
    "            if k == ' ':\n",
    "                data_total[i][j] = data_total[i][j].replace(k,'')\n",
    "            if k not in numbers:\n",
    "                data_total[i][j] = data_total[i][j].replace(k,'')\n",
    "        try:\n",
    "            data_total_float[i][j] = float(data_total[i][j])\n",
    "        except:\n",
    "            data_total_float[i][j] = float(0)"
   ]
  },
  {
   "cell_type": "code",
   "execution_count": 2,
   "metadata": {},
   "outputs": [],
   "source": [
    "#fonction qui permettra de de rendre les chaine de caractère un nombre réel\n",
    "def is_number(s):\n",
    "    try:\n",
    "        float(s)\n",
    "        return True\n",
    "    except ValueError:\n",
    "        pass\n",
    " \n",
    "    try:\n",
    "        import unicodedata\n",
    "        unicodedata.numeric(s)\n",
    "        return True\n",
    "    except (TypeError, ValueError):\n",
    "        pass\n",
    " \n",
    "    return False"
   ]
  },
  {
   "cell_type": "code",
   "execution_count": 3,
   "metadata": {},
   "outputs": [
    {
     "data": {
      "text/plain": [
       "(6001, 4)"
      ]
     },
     "execution_count": 3,
     "metadata": {},
     "output_type": "execute_result"
    }
   ],
   "source": [
    "#on regroupe les 37 classes en 4 classes principales \n",
    "df0 = pd.read_pickle('Data.pkl')\n",
    "df1 = df0[0]\n",
    "label = df1.replace('TEST ATEQ NOK',0)\n",
    "label1 = label.replace('TRAVAIL NORMAL',3)\n",
    "label = label1.replace(['VISSAGE 1 NOK','VISSAGE 2 NOK','VISSAGE 3 NOK','VISSAGE 4 NOK','VISSAGE 5 NOK','VISSAGE 6 NOK','VISSAGE  6 NOK','VISSAGE  7 NOK','VISSAGE  8 NOK','VISSAGE  9 NOK','VISSAGE 10 NOK','VISSAGE  10 NOK'],[1,1,1,1,1,1,1,1,1,1,1,1])\n",
    "\n",
    "for i in label:\n",
    "    if is_number(i):\n",
    "        pass      \n",
    "    else:\n",
    "        label = label.replace(i,2)\n",
    "        \n",
    "label = np.array(label)\n",
    "data_one_hot = np.array(pd.get_dummies(label))\n",
    "data_one_hot.shape"
   ]
  },
  {
   "cell_type": "markdown",
   "metadata": {},
   "source": [
    "# Random forest"
   ]
  },
  {
   "cell_type": "code",
   "execution_count": 4,
   "metadata": {},
   "outputs": [
    {
     "data": {
      "text/plain": [
       "RandomForestClassifier(bootstrap=True, class_weight=None, criterion='gini',\n",
       "                       max_depth=None, max_features='auto', max_leaf_nodes=None,\n",
       "                       min_impurity_decrease=0.0, min_impurity_split=None,\n",
       "                       min_samples_leaf=1, min_samples_split=2,\n",
       "                       min_weight_fraction_leaf=0.0, n_estimators=100,\n",
       "                       n_jobs=None, oob_score=False, random_state=None,\n",
       "                       verbose=0, warm_start=False)"
      ]
     },
     "execution_count": 4,
     "metadata": {},
     "output_type": "execute_result"
    }
   ],
   "source": [
    "#on utilise la méthode random forest pour la classification \n",
    "from sklearn.ensemble import RandomForestClassifier\n",
    "from sklearn.datasets import make_classification\n",
    "\n",
    "#on divise la datase en data d'entrainement et data de test \n",
    "X_train, X_test, y_train, y_test = train_test_split(data_total_float, label, test_size = 0.20)\n",
    "\n",
    "clf = RandomForestClassifier(n_estimators=100,criterion = 'gini'\n",
    "                             )\n",
    "clf.fit(X_train, y_train)\n"
   ]
  },
  {
   "cell_type": "code",
   "execution_count": 5,
   "metadata": {},
   "outputs": [
    {
     "data": {
      "text/plain": [
       "1.0"
      ]
     },
     "execution_count": 5,
     "metadata": {},
     "output_type": "execute_result"
    }
   ],
   "source": [
    "clf.score(X_train, y_train)"
   ]
  },
  {
   "cell_type": "code",
   "execution_count": 6,
   "metadata": {},
   "outputs": [
    {
     "data": {
      "text/plain": [
       "0.9750208159866778"
      ]
     },
     "execution_count": 6,
     "metadata": {},
     "output_type": "execute_result"
    }
   ],
   "source": [
    "clf.score(X_test, y_test)"
   ]
  },
  {
   "cell_type": "code",
   "execution_count": 7,
   "metadata": {},
   "outputs": [
    {
     "name": "stdout",
     "output_type": "stream",
     "text": [
      "              precision    recall  f1-score   support\n",
      "\n",
      "           0       1.00      0.90      0.95        59\n",
      "           1       0.96      0.99      0.98       479\n",
      "           2       0.98      0.97      0.98       643\n",
      "           3       0.95      1.00      0.98        20\n",
      "\n",
      "    accuracy                           0.98      1201\n",
      "   macro avg       0.97      0.96      0.97      1201\n",
      "weighted avg       0.98      0.98      0.97      1201\n",
      "\n"
     ]
    }
   ],
   "source": [
    "#on évolue la méthode en calculant l'accuracy\n",
    "from sklearn.metrics import classification_report, confusion_matrix\n",
    "\n",
    "y_pred = clf.predict(X_test)\n",
    "print(classification_report(y_test, y_pred)) "
   ]
  },
  {
   "cell_type": "markdown",
   "metadata": {},
   "source": [
    "# Utilisation de l'alforithme pour prédire les classes"
   ]
  },
  {
   "cell_type": "code",
   "execution_count": 12,
   "metadata": {},
   "outputs": [
    {
     "name": "stdout",
     "output_type": "stream",
     "text": [
      "C:\\Users\\benki\\Desktop\\NOKAssemblage\\2019_S07\\33A190420446A.txt\n"
     ]
    }
   ],
   "source": [
    "#en executant cette cellule vous pourriez entrer le fichier et vous aurez la classe à laquelle il correspond\n",
    "X = []\n",
    "f = open(input(), \"r\")\n",
    "lines = f.readlines()\n",
    "if len(lines) == 105 :\n",
    "    L = []\n",
    "    for i in range(len(lines)) :\n",
    "\n",
    "        L.append(lines[i].split(';')[1])\n",
    "X.append(L)\n",
    "\n",
    "\n",
    "\n",
    "df  = pd.DataFrame(X)\n",
    "\n",
    "\n",
    "\n",
    "\n",
    "\n",
    "\n",
    "\n",
    "\n",
    "data_total = np.array(copy.deepcopy(X))\n",
    "defaut_row = pd.read_excel('example_data.xlsx')\n",
    "defaut = np.array(defaut_row)\n",
    "defaut = defaut[48:95,5:]\n",
    "data_total = data_total[:,5:52]\n",
    "alphabet = string.ascii_lowercase+string.ascii_uppercase    \n",
    "numbers = np.array(['0','1','2','3','4','5','6','7','8','9','-','.']) \n",
    "data_total_float = np.zeros(shape=(1,47))\n",
    "\n",
    "#on remplace les valeurs vides avec les valeurs par défaut \n",
    "for j in range(47):\n",
    "    if data_total[0][j] == '':\n",
    "        data_total[0][j] = to_str(defaut[j][0])\n",
    "    for k in data_total[0][j]:\n",
    "        if k in alphabet:\n",
    "            data_total[0][j] = data_total[0][j].replace(k,'')\n",
    "        if k == ' ':\n",
    "            data_total[0][j] = data_total[0][j].replace(k,'')\n",
    "        if k not in numbers:\n",
    "            data_total[0][j] = data_total[0][j].replace(k,'')\n",
    "    try:\n",
    "        data_total_float[0][j] = float(data_total[0][j])\n",
    "    except:\n",
    "        data_total_float[0][j] = float(0)\n"
   ]
  },
  {
   "cell_type": "code",
   "execution_count": 13,
   "metadata": {},
   "outputs": [],
   "source": [
    "df2 = df[0]\n",
    "label = df2.replace('TEST ATEQ NOK',0)\n",
    "label1 = label.replace('TRAVAIL NORMAL',3)\n",
    "label = label1.replace(['VISSAGE 1 NOK','VISSAGE 2 NOK','VISSAGE 3 NOK','VISSAGE 4 NOK','VISSAGE 5 NOK','VISSAGE 6 NOK','VISSAGE  6 NOK','VISSAGE  7 NOK','VISSAGE  8 NOK','VISSAGE  9 NOK','VISSAGE 10 NOK','VISSAGE  10 NOK'],[1,1,1,1,1,1,1,1,1,1,1,1])\n",
    "\n",
    "for i in label:\n",
    "    if is_number(i):\n",
    "        pass      \n",
    "    else:\n",
    "        label = label.replace(i,2)\n",
    "        \n",
    "label = np.array(label)"
   ]
  },
  {
   "cell_type": "code",
   "execution_count": 14,
   "metadata": {},
   "outputs": [
    {
     "data": {
      "text/plain": [
       "array([1], dtype=int64)"
      ]
     },
     "execution_count": 14,
     "metadata": {},
     "output_type": "execute_result"
    }
   ],
   "source": [
    "clf.predict(data_total_float)"
   ]
  },
  {
   "cell_type": "code",
   "execution_count": null,
   "metadata": {},
   "outputs": [],
   "source": []
  }
 ],
 "metadata": {
  "kernelspec": {
   "display_name": "Python 3",
   "language": "python",
   "name": "python3"
  },
  "language_info": {
   "codemirror_mode": {
    "name": "ipython",
    "version": 3
   },
   "file_extension": ".py",
   "mimetype": "text/x-python",
   "name": "python",
   "nbconvert_exporter": "python",
   "pygments_lexer": "ipython3",
   "version": "3.6.5"
  }
 },
 "nbformat": 4,
 "nbformat_minor": 2
}
